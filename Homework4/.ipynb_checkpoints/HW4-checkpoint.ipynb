{
 "cells": [
  {
   "cell_type": "code",
   "execution_count": 1,
   "metadata": {
    "ExecuteTime": {
     "end_time": "2021-11-24T11:06:27.568919Z",
     "start_time": "2021-11-24T11:06:26.666894Z"
    }
   },
   "outputs": [],
   "source": [
    "import networkx as nx\n",
    "from networkx.algorithms import bipartite\n",
    "from networkx.readwrite import json_graph\n",
    "\n",
    "import pandas as pd\n",
    "import matplotlib.pyplot as plt\n",
    "import numpy as np"
   ]
  },
  {
   "cell_type": "code",
   "execution_count": 2,
   "metadata": {
    "ExecuteTime": {
     "end_time": "2021-11-24T11:06:27.627288Z",
     "start_time": "2021-11-24T11:06:27.611876Z"
    }
   },
   "outputs": [
    {
     "data": {
      "text/html": [
       "<div>\n",
       "<style scoped>\n",
       "    .dataframe tbody tr th:only-of-type {\n",
       "        vertical-align: middle;\n",
       "    }\n",
       "\n",
       "    .dataframe tbody tr th {\n",
       "        vertical-align: top;\n",
       "    }\n",
       "\n",
       "    .dataframe thead th {\n",
       "        text-align: right;\n",
       "    }\n",
       "</style>\n",
       "<table border=\"1\" class=\"dataframe\">\n",
       "  <thead>\n",
       "    <tr style=\"text-align: right;\">\n",
       "      <th></th>\n",
       "      <th>Name</th>\n",
       "      <th>Kaggle</th>\n",
       "      <th>Weight</th>\n",
       "    </tr>\n",
       "  </thead>\n",
       "  <tbody>\n",
       "    <tr>\n",
       "      <th>0</th>\n",
       "      <td>Urm, Jae Jung</td>\n",
       "      <td>https://www.kaggle.com/mczielinski/bitcoin-his...</td>\n",
       "      <td>30</td>\n",
       "    </tr>\n",
       "    <tr>\n",
       "      <th>1</th>\n",
       "      <td>Urm, Jae Jung</td>\n",
       "      <td>https://www.kaggle.com/allen-institute-for-ai/...</td>\n",
       "      <td>15</td>\n",
       "    </tr>\n",
       "    <tr>\n",
       "      <th>2</th>\n",
       "      <td>Urm, Jae Jung</td>\n",
       "      <td>https://www.kaggle.com/datasnaek/youtube-new</td>\n",
       "      <td>25</td>\n",
       "    </tr>\n",
       "    <tr>\n",
       "      <th>3</th>\n",
       "      <td>Urm, Jae Jung</td>\n",
       "      <td>https://www.kaggle.com/sudalairajkumar/novel-c...</td>\n",
       "      <td>15</td>\n",
       "    </tr>\n",
       "    <tr>\n",
       "      <th>4</th>\n",
       "      <td>Urm, Jae Jung</td>\n",
       "      <td>https://www.kaggle.com/bappekim/air-pollution-...</td>\n",
       "      <td>15</td>\n",
       "    </tr>\n",
       "    <tr>\n",
       "      <th>...</th>\n",
       "      <td>...</td>\n",
       "      <td>...</td>\n",
       "      <td>...</td>\n",
       "    </tr>\n",
       "    <tr>\n",
       "      <th>275</th>\n",
       "      <td>Kim, Yeonsoo</td>\n",
       "      <td>https://www.kaggle.com/berkeleyearth/climate-c...</td>\n",
       "      <td>30</td>\n",
       "    </tr>\n",
       "    <tr>\n",
       "      <th>276</th>\n",
       "      <td>Kim, Yeonsoo</td>\n",
       "      <td>https://www.kaggle.com/washingtongold/wildfire...</td>\n",
       "      <td>25</td>\n",
       "    </tr>\n",
       "    <tr>\n",
       "      <th>277</th>\n",
       "      <td>Kim, Yeonsoo</td>\n",
       "      <td>https://www.kaggle.com/robikscube/hourly-energ...</td>\n",
       "      <td>25</td>\n",
       "    </tr>\n",
       "    <tr>\n",
       "      <th>278</th>\n",
       "      <td>Kim, Yeonsoo</td>\n",
       "      <td>https://www.kaggle.com/imdevskp/corona-virus-r...</td>\n",
       "      <td>15</td>\n",
       "    </tr>\n",
       "    <tr>\n",
       "      <th>279</th>\n",
       "      <td>Kim, Yeonsoo</td>\n",
       "      <td>https://www.kaggle.com/frtgnn/500-richest-peop...</td>\n",
       "      <td>5</td>\n",
       "    </tr>\n",
       "  </tbody>\n",
       "</table>\n",
       "<p>280 rows × 3 columns</p>\n",
       "</div>"
      ],
      "text/plain": [
       "              Name                                             Kaggle  Weight\n",
       "0    Urm, Jae Jung  https://www.kaggle.com/mczielinski/bitcoin-his...      30\n",
       "1    Urm, Jae Jung  https://www.kaggle.com/allen-institute-for-ai/...      15\n",
       "2    Urm, Jae Jung       https://www.kaggle.com/datasnaek/youtube-new      25\n",
       "3    Urm, Jae Jung  https://www.kaggle.com/sudalairajkumar/novel-c...      15\n",
       "4    Urm, Jae Jung  https://www.kaggle.com/bappekim/air-pollution-...      15\n",
       "..             ...                                                ...     ...\n",
       "275   Kim, Yeonsoo  https://www.kaggle.com/berkeleyearth/climate-c...      30\n",
       "276   Kim, Yeonsoo  https://www.kaggle.com/washingtongold/wildfire...      25\n",
       "277   Kim, Yeonsoo  https://www.kaggle.com/robikscube/hourly-energ...      25\n",
       "278   Kim, Yeonsoo  https://www.kaggle.com/imdevskp/corona-virus-r...      15\n",
       "279   Kim, Yeonsoo  https://www.kaggle.com/frtgnn/500-richest-peop...       5\n",
       "\n",
       "[280 rows x 3 columns]"
      ]
     },
     "execution_count": 2,
     "metadata": {},
     "output_type": "execute_result"
    }
   ],
   "source": [
    "data = pd.read_csv('sp21_student_kaggle.csv')\n",
    "data\n",
    "# data['Name']\n",
    "# data['Kaggle']"
   ]
  },
  {
   "cell_type": "code",
   "execution_count": 3,
   "metadata": {
    "ExecuteTime": {
     "end_time": "2021-11-24T11:06:27.721977Z",
     "start_time": "2021-11-24T11:06:27.687301Z"
    }
   },
   "outputs": [],
   "source": [
    "# unidirected bipartite graph\n",
    "\n",
    "B = nx.Graph()\n",
    "# Add nodes with the node attribute \"bipartite\"\n",
    "B.add_nodes_from(data['Name'], bipartite='Person')\n",
    "B.add_nodes_from(data['Kaggle'], bipartite='Dataset')\n",
    "\n",
    "#B.nodes(data=True)\n",
    "\n",
    "B.add_weighted_edges_from(\n",
    "    [(row['Name'], row['Kaggle'], 1) for idx, row in data.iterrows()], \n",
    "    weight='weight')\n",
    "\n",
    "#B.edges(data=True)\n",
    "\n",
    "# #nx.is_connected(B)\n",
    "\n",
    "# top_nodes = {n for n, d in B.nodes(data=True) if d[\"bipartite\"] == 0}\n",
    "# bottom_nodes = set(B) - top_nodes\n",
    "# print(round(bipartite.density(B, bottom_nodes), 2))\n",
    "\n",
    "# print(nx.is_connected(B))\n",
    "\n",
    "# G = bipartite.projected_graph(B, top_nodes)\n",
    "# print(G)"
   ]
  },
  {
   "cell_type": "code",
   "execution_count": 4,
   "metadata": {
    "ExecuteTime": {
     "end_time": "2021-11-24T11:06:28.329294Z",
     "start_time": "2021-11-24T11:06:27.779995Z"
    }
   },
   "outputs": [
    {
     "data": {
      "image/png": "[encoded data removed]",
      "text/plain": [
       "<Figure size 640x480 with 1 Axes>"
      ]
     },
     "metadata": {},
     "output_type": "display_data"
    }
   ],
   "source": [
    "# node-link diagram differentiating the two types of nodes\n",
    "\n",
    "color_map = []\n",
    "for node in B:\n",
    "    if \"https://\" in node:\n",
    "        color_map.append('blue')\n",
    "    else:\n",
    "        color_map.append('green')\n",
    "\n",
    "pos = nx.spring_layout(B, k=0.20, iterations=100)\n",
    "\n",
    "nx.draw(B, pos=pos, node_color=color_map)  \n",
    "plt.show()"
   ]
  },
  {
   "cell_type": "code",
   "execution_count": 5,
   "metadata": {
    "ExecuteTime": {
     "end_time": "2021-11-24T11:06:28.596550Z",
     "start_time": "2021-11-24T11:06:28.583594Z"
    }
   },
   "outputs": [
    {
     "data": {
      "text/plain": [
       "14"
      ]
     },
     "execution_count": 5,
     "metadata": {},
     "output_type": "execute_result"
    }
   ],
   "source": [
    "# How many components are there in this graph?\n",
    "len([len(c) for c in sorted(nx.connected_components(B), key=len, reverse=True)])"
   ]
  },
  {
   "cell_type": "code",
   "execution_count": 6,
   "metadata": {
    "ExecuteTime": {
     "end_time": "2021-11-24T11:06:28.841113Z",
     "start_time": "2021-11-24T11:06:28.831955Z"
    }
   },
   "outputs": [
    {
     "data": {
      "text/plain": [
       "{'Bernier, Clement',\n",
       " 'Brandl, Florian Lukas',\n",
       " 'Chai, Kyuwook ',\n",
       " 'Chang, Jaewon',\n",
       " 'Cho, Minsoo',\n",
       " 'Chun, Ye Ji',\n",
       " 'Chung, Chaeyoung',\n",
       " 'Chung, Jiwan',\n",
       " 'Hwang, Doohyun',\n",
       " 'Jeong, Jinseo',\n",
       " 'Ji, Seungyeong',\n",
       " 'Jo, Iksu',\n",
       " 'Kang, Dong Sig',\n",
       " 'Kim, Haesung',\n",
       " 'Kim, Jongwon',\n",
       " 'Kim, Myungdong',\n",
       " 'Kim, Tae Kyoung',\n",
       " 'Kim, Yeonsoo',\n",
       " 'Kwack, Taeye',\n",
       " 'Lau, Oi Yee',\n",
       " 'Ledwon, Dennis Michael',\n",
       " 'Lee, Inhoe',\n",
       " 'Lee, Jaeyong',\n",
       " 'Lee, Jewoo',\n",
       " 'Lee, Jueon',\n",
       " 'Lee, Kyuho',\n",
       " 'Lee, Seungju',\n",
       " 'Lee, Sumin',\n",
       " 'Lim, Chan Song',\n",
       " 'Logghe, Jubeline Jacqueline L',\n",
       " 'Nguyen, Tuan Nghia',\n",
       " 'Park, Jinwon',\n",
       " 'Park, Jisoo',\n",
       " 'Park, Ju Yeon',\n",
       " 'Park, Jung Ho',\n",
       " 'Seok, Ji Heon',\n",
       " 'Shetty, Marguerite Indrayani',\n",
       " 'Stepanov, Ilya',\n",
       " 'Suard, Steve',\n",
       " 'Urm, Jae Jung',\n",
       " 'Xu, Shu',\n",
       " 'Yang, Jaeyeong',\n",
       " 'Yoo, Jaekyun',\n",
       " 'https://www.kaggle.com//nickhould/craft-cans',\n",
       " 'https://www.kaggle.com/Cornell-University/arxiv',\n",
       " 'https://www.kaggle.com/aaron7sun/stocknews',\n",
       " 'https://www.kaggle.com/abhikjha/imdb-wiki-faces-dataset',\n",
       " 'https://www.kaggle.com/akouaorsot/political-though-work-corpus',\n",
       " 'https://www.kaggle.com/aladzuzamar/hotels-accommodation-prices-dataset',\n",
       " 'https://www.kaggle.com/aljarah/xAPI-Edu-Data',\n",
       " 'https://www.kaggle.com/allen-institute-for-ai/CORD-19-research-challenge',\n",
       " 'https://www.kaggle.com/anandhuh/latest-covid19-india-statewise-data',\n",
       " 'https://www.kaggle.com/anandhuh/latest-worldwide-vaccine-data',\n",
       " 'https://www.kaggle.com/anhtu96/ednet-kt34',\n",
       " 'https://www.kaggle.com/ankurzing/sentiment-analysis-for-financial-news',\n",
       " 'https://www.kaggle.com/arashnic/hr-analytics-job-change-of-data-scientists',\n",
       " 'https://www.kaggle.com/arjunprasadsarkhel/2021-olympics-in-tokyo',\n",
       " 'https://www.kaggle.com/arkhoshghalb/twitter-sentiment-analysis-hatred-speech',\n",
       " 'https://www.kaggle.com/bakar31/euro-2020-top-players',\n",
       " 'https://www.kaggle.com/bappekim/air-pollution-in-seoul',\n",
       " 'https://www.kaggle.com/berkeleyearth/climate-change-earth-surface-temperature-data',\n",
       " 'https://www.kaggle.com/bittlingmayer/amazonreviews',\n",
       " 'https://www.kaggle.com/blurredmachine/are-your-employees-burning-out',\n",
       " 'https://www.kaggle.com/c/1056lab-credit-card-fraud-detection',\n",
       " 'https://www.kaggle.com/c/house-prices-advanced-regression-techniques',\n",
       " 'https://www.kaggle.com/c/kaggle-survey-2019/data',\n",
       " 'https://www.kaggle.com/c/porto-seguro-safe-driver-prediction',\n",
       " 'https://www.kaggle.com/c/titanic',\n",
       " 'https://www.kaggle.com/c/titanic/overview',\n",
       " 'https://www.kaggle.com/carrie1/ecommerce-data',\n",
       " 'https://www.kaggle.com/chanoncharuchinda/top-100-korean-drama-mydramalist',\n",
       " 'https://www.kaggle.com/chuckephron/leagueoflegends',\n",
       " 'https://www.kaggle.com/crowww/a-large-scale-fish-dataset',\n",
       " 'https://www.kaggle.com/csanhueza/the-marvel-universe-social-network',\n",
       " 'https://www.kaggle.com/datafiniti/consumer-reviews-of-amazon-products',\n",
       " 'https://www.kaggle.com/datafiniti/fast-food-restaurants',\n",
       " 'https://www.kaggle.com/datasnaek/chess',\n",
       " 'https://www.kaggle.com/datasnaek/lightshot',\n",
       " 'https://www.kaggle.com/datasnaek/youtube-new',\n",
       " 'https://www.kaggle.com/delaneyisabella/spotify-top-100-tracks-20012019',\n",
       " 'https://www.kaggle.com/dhruvildave/billboard-the-hot-100-songs',\n",
       " 'https://www.kaggle.com/dhruvildave/wikibooks-dataset',\n",
       " 'https://www.kaggle.com/drgilermo/nba-players-stats',\n",
       " 'https://www.kaggle.com/ealaxi/paysim1',\n",
       " 'https://www.kaggle.com/fivethirtyeight/fivethirtyeight-comic-characters-dataset',\n",
       " 'https://www.kaggle.com/frtgnn/500-richest-people-2021',\n",
       " 'https://www.kaggle.com/gauravduttakiit/bitcoin-tweets-16m-tweets-with-sentiment-tagged',\n",
       " 'https://www.kaggle.com/geomack/spotifyclassification',\n",
       " 'https://www.kaggle.com/gpreda/covid-world-vaccination-progress',\n",
       " 'https://www.kaggle.com/gpreda/politics-on-reddit',\n",
       " 'https://www.kaggle.com/gpreda/reddit-conspiracy-theory',\n",
       " 'https://www.kaggle.com/gregorut/videogamesales',\n",
       " 'https://www.kaggle.com/harlfoxem/housesalesprediction',\n",
       " 'https://www.kaggle.com/harriken/employeeturnover',\n",
       " 'https://www.kaggle.com/hugomathien/soccer',\n",
       " 'https://www.kaggle.com/imakash3011/customer-personality-analysis',\n",
       " 'https://www.kaggle.com/imakash3011/online-shoppers-purchasing-intention-dataset',\n",
       " 'https://www.kaggle.com/imdevskp/corona-virus-report',\n",
       " 'https://www.kaggle.com/imsparsh/musicnet-dataset',\n",
       " 'https://www.kaggle.com/jessicali9530/honey-production',\n",
       " 'https://www.kaggle.com/jorijnsmit/binance-full-history',\n",
       " 'https://www.kaggle.com/jpmiller/how-people-get-hurt',\n",
       " 'https://www.kaggle.com/jsphyg/weather-dataset-rattle-package',\n",
       " 'https://www.kaggle.com/justinas/startup-investments',\n",
       " 'https://www.kaggle.com/kaggle/meta-kaggle',\n",
       " 'https://www.kaggle.com/kimjihoo/coronavirusdataset',\n",
       " 'https://www.kaggle.com/kkhandekar/all-time-worldwide-box-office',\n",
       " 'https://www.kaggle.com/koki25ando/dj-mag-top-100-history-dataset',\n",
       " 'https://www.kaggle.com/kwadwoofosu/predict-test-scores-of-students',\n",
       " 'https://www.kaggle.com/kylekohnen/complete-pokemon-data-set',\n",
       " 'https://www.kaggle.com/lava18/google-play-store-apps',\n",
       " 'https://www.kaggle.com/leonardopena/top-spotify-songs-from-20102019-by-year',\n",
       " 'https://www.kaggle.com/luiscorter/netflix-original-films-imdb-scores',\n",
       " 'https://www.kaggle.com/magdamonteiro/smart-cities-index-datasets ',\n",
       " 'https://www.kaggle.com/malekzadeh/motionsense-dataset',\n",
       " 'https://www.kaggle.com/mariaren/covid19-healthy-diet-dataset',\n",
       " 'https://www.kaggle.com/mathurinache/citation-network-dataset',\n",
       " 'https://www.kaggle.com/mathurinache/twitter-edge-nodes',\n",
       " 'https://www.kaggle.com/mattiuzc/stock-exchange-data',\n",
       " 'https://www.kaggle.com/mczielinski/bitcoin-historical-data',\n",
       " 'https://www.kaggle.com/meetnagadia/bitcoin-stock-data-sept-17-2014-august-24-2021',\n",
       " 'https://www.kaggle.com/mkachuee/BloodPressureDataset',\n",
       " 'https://www.kaggle.com/mkechinov/ecommerce-events-history-in-cosmetics-shop',\n",
       " 'https://www.kaggle.com/mlg-ulb/creditcardfraud',\n",
       " 'https://www.kaggle.com/mylesoneill/world-university-rankings',\n",
       " 'https://www.kaggle.com/mysarahmadbhat/police-killings',\n",
       " 'https://www.kaggle.com/netflix-inc/netflix-prize-data',\n",
       " 'https://www.kaggle.com/neuromusic/avocado-prices',\n",
       " 'https://www.kaggle.com/nickhould/craft-cans',\n",
       " 'https://www.kaggle.com/nicolaswattiez/skillbuilder-data-2009-2010',\n",
       " 'https://www.kaggle.com/noobyogi0100/shoe-dataset',\n",
       " 'https://www.kaggle.com/odins0n/top-50-cryptocurrency-historical-prices',\n",
       " 'https://www.kaggle.com/omermetinn/values-of-top-nasdaq-copanies-from-2010-to-2020',\n",
       " 'https://www.kaggle.com/openfoodfacts/world-food-facts',\n",
       " 'https://www.kaggle.com/osmi/mental-health-in-tech-survey',\n",
       " 'https://www.kaggle.com/ozgurdogan646/water-quality-dataset',\n",
       " 'https://www.kaggle.com/pakkal/ecommerce-banner-promo-dqlab',\n",
       " 'https://www.kaggle.com/patrasaurabh/csgo-player-and-team-stats',\n",
       " 'https://www.kaggle.com/paultimothymooney/chest-xray-pneumonia',\n",
       " 'https://www.kaggle.com/pavansubhasht/ibm-hr-analytics-attrition-dataset',\n",
       " 'https://www.kaggle.com/priteshraj10/covid-vaccination-all-countries-data',\n",
       " 'https://www.kaggle.com/puneet6060/intel-image-classification',\n",
       " 'https://www.kaggle.com/rajatrc1705/english-premier-league202021',\n",
       " 'https://www.kaggle.com/residentmario/ramen-ratings',\n",
       " 'https://www.kaggle.com/rishidamarla/fast-food-restaurants-in-america',\n",
       " 'https://www.kaggle.com/rishidamarla/youtube-channel-metadata',\n",
       " 'https://www.kaggle.com/robikscube/hourly-energy-consumption',\n",
       " 'https://www.kaggle.com/rocki37/open-university-learning-analytics-dataset',\n",
       " 'https://www.kaggle.com/rsrishav/youtube-trending-video-dataset',\n",
       " 'https://www.kaggle.com/rush4ratio/video-game-sales-with-ratings',\n",
       " 'https://www.kaggle.com/russellyates88/suicide-rates-overview-1985-to-2016',\n",
       " 'https://www.kaggle.com/rydela/novel-coronavirus-covid19-cases-data',\n",
       " 'https://www.kaggle.com/sagarsahni3/covid19-world-vaccination-progress',\n",
       " 'https://www.kaggle.com/sashankpillai/spotify-top-200-charts-20202021',\n",
       " 'https://www.kaggle.com/shivamb/netflix-shows',\n",
       " 'https://www.kaggle.com/shreyasajal/linkedin-influencers-data',\n",
       " 'https://www.kaggle.com/shreyasajal/mobilenonmobile-tech-articles-and-tweets',\n",
       " 'https://www.kaggle.com/sl6149/data-scientist-job-market-in-the-us',\n",
       " 'https://www.kaggle.com/snehaanbhawal/netflix-tv-shows-and-movie-list',\n",
       " 'https://www.kaggle.com/sobhanmoosavi/us-accidents',\n",
       " 'https://www.kaggle.com/songseungwon/2020-udemy-courses-dataset',\n",
       " 'https://www.kaggle.com/sootersaalu/amazon-top-50-bestselling-books-2009-2019',\n",
       " 'https://www.kaggle.com/spscientist/students-performance-in-exams',\n",
       " 'https://www.kaggle.com/srikantsahu/co2-and-ghg-emission-data',\n",
       " 'https://www.kaggle.com/stefanoleone992/imdb-extensive-dataset',\n",
       " 'https://www.kaggle.com/stefanzivanov/olympic-games-2021-medals',\n",
       " 'https://www.kaggle.com/subhamjain/loan-prediction-based-on-customer-behavior',\n",
       " 'https://www.kaggle.com/sudalairajkumar/novel-corona-virus-2019-dataset',\n",
       " 'https://www.kaggle.com/takbiralam/covid19-symptoms-dataset',\n",
       " 'https://www.kaggle.com/tamber/steam-video-games',\n",
       " 'https://www.kaggle.com/tanuprabhu/linear-regression-dataset',\n",
       " 'https://www.kaggle.com/tapakah68/medical-masks-part1',\n",
       " 'https://www.kaggle.com/theworldbank/sustainable-development-goals',\n",
       " 'https://www.kaggle.com/threnjen/40-years-of-air-quality-index-from-the-epa-daily',\n",
       " 'https://www.kaggle.com/uciml/biomechanical-features-of-orthopedic-patients',\n",
       " 'https://www.kaggle.com/uciml/red-wine-quality-cortez-et-al-2009',\n",
       " 'https://www.kaggle.com/unanimad/the-oscar-award',\n",
       " 'https://www.kaggle.com/unitednations/international-energy-statistics',\n",
       " 'https://www.kaggle.com/unsdsn/world-happiness',\n",
       " 'https://www.kaggle.com/usgs/earthquake-database',\n",
       " 'https://www.kaggle.com/varpit94/binancecoin-data',\n",
       " 'https://www.kaggle.com/varpit94/us-unemployment-rate-data',\n",
       " 'https://www.kaggle.com/wanghaohan/confused-eeg',\n",
       " 'https://www.kaggle.com/washingtongold/wildfire-satellite-data',\n",
       " 'https://www.kaggle.com/worldbank/world-development-indicators',\n",
       " 'https://www.kaggle.com/wyattowalsh/basketball',\n",
       " 'https://www.kaggle.com/yoannboyere/co2-ghg-emissionsdata',\n",
       " 'https://www.kaggle.com/zaeemnalla/premier-league',\n",
       " 'https://www.kaggle.com/zalando-research/fashionmnist',\n",
       " 'https://www.kaggle.com/zusmani/us-census-2020',\n",
       " 'https://www.kaggle.com/zygmunt/goodbooks-10k'}"
      ]
     },
     "execution_count": 6,
     "metadata": {},
     "output_type": "execute_result"
    }
   ],
   "source": [
    "# Extracting the largest component\n",
    "main_component = max(nx.connected_components(B), key=len)\n",
    "main_component"
   ]
  },
  {
   "cell_type": "code",
   "execution_count": 7,
   "metadata": {
    "ExecuteTime": {
     "end_time": "2021-11-24T11:06:29.058148Z",
     "start_time": "2021-11-24T11:06:29.051019Z"
    }
   },
   "outputs": [
    {
     "name": "stdout",
     "output_type": "stream",
     "text": [
      "Kim, Jaehee\n",
      "Kim, Junmo\n",
      "Ham, Yoonhee\n",
      "Koller, Pia\n",
      "Shin, Yoon Jae\n",
      "Bansal, Parth\n",
      "Sluimer, Jasper\n",
      "Kim, Chongmin\n",
      "Kim, Hyunwoo\n",
      "Oh, Sewon\n",
      "Na, Doori\n",
      "Doret, Norman\n",
      "Buisson, Antoine\n"
     ]
    }
   ],
   "source": [
    "# Names of people who do not belong to the main component\n",
    "connected_components = [c for c in sorted(nx.connected_components(B), key=len, reverse=True)]\n",
    "del connected_components[0]\n",
    "\n",
    "for connected_component in connected_components:\n",
    "    for name in connected_component:\n",
    "        if \"https://\" not in name:\n",
    "            print(name)"
   ]
  },
  {
   "cell_type": "code",
   "execution_count": 8,
   "metadata": {
    "ExecuteTime": {
     "end_time": "2021-11-24T11:06:29.288129Z",
     "start_time": "2021-11-24T11:06:29.276534Z"
    }
   },
   "outputs": [],
   "source": [
    "# Convert the main component into two unipartite graphs\n",
    "S = [B.subgraph(c).copy() for c in nx.connected_components(B)]\n",
    "\n",
    "person_nodes, dataset_nodes = bipartite.sets(S[0])"
   ]
  },
  {
   "cell_type": "code",
   "execution_count": 9,
   "metadata": {
    "ExecuteTime": {
     "end_time": "2021-11-24T11:06:29.526911Z",
     "start_time": "2021-11-24T11:06:29.523816Z"
    }
   },
   "outputs": [],
   "source": [
    "# Visualize both persons graph and datasets graog using node-link diagrams\n"
   ]
  },
  {
   "cell_type": "code",
   "execution_count": 10,
   "metadata": {
    "ExecuteTime": {
     "end_time": "2021-11-24T11:06:31.665573Z",
     "start_time": "2021-11-24T11:06:31.656586Z"
    }
   },
   "outputs": [],
   "source": [
    "# Compute closeness centralities for all nodes in the persons graph"
   ]
  },
  {
   "cell_type": "code",
   "execution_count": 11,
   "metadata": {
    "ExecuteTime": {
     "end_time": "2021-11-24T11:06:31.926352Z",
     "start_time": "2021-11-24T11:06:31.924309Z"
    }
   },
   "outputs": [],
   "source": [
    "# Compute betweenness centralities for all nodes in the persons graph"
   ]
  },
  {
   "cell_type": "code",
   "execution_count": 12,
   "metadata": {
    "ExecuteTime": {
     "end_time": "2021-11-24T11:06:32.152471Z",
     "start_time": "2021-11-24T11:06:32.148773Z"
    }
   },
   "outputs": [],
   "source": [
    "# Compute the correlation coefficient between the two centrality measures"
   ]
  }
 ],
 "metadata": {
  "interpreter": {
   "hash": "916dbcbb3f70747c44a77c7bcd40155683ae19c65e1c03b4aa3499c5328201f1"
  },
  "kernelspec": {
   "display_name": "Python 3",
   "language": "python",
   "name": "python3"
  },
  "language_info": {
   "codemirror_mode": {
    "name": "ipython",
    "version": 3
   },
   "file_extension": ".py",
   "mimetype": "text/x-python",
   "name": "python",
   "nbconvert_exporter": "python",
   "pygments_lexer": "ipython3",
   "version": "3.8.5"
  },
  "toc": {
   "base_numbering": 1,
   "nav_menu": {},
   "number_sections": true,
   "sideBar": true,
   "skip_h1_title": false,
   "title_cell": "Table of Contents",
   "title_sidebar": "Contents",
   "toc_cell": false,
   "toc_position": {},
   "toc_section_display": true,
   "toc_window_display": false
  },
  "varInspector": {
   "cols": {
    "lenName": 16,
    "lenType": 16,
    "lenVar": 40
   },
   "kernels_config": {
    "python": {
     "delete_cmd_postfix": "",
     "delete_cmd_prefix": "del ",
     "library": "var_list.py",
     "varRefreshCmd": "print(var_dic_list())"
    },
    "r": {
     "delete_cmd_postfix": ") ",
     "delete_cmd_prefix": "rm(",
     "library": "var_list.r",
     "varRefreshCmd": "cat(var_dic_list()) "
    }
   },
   "types_to_exclude": [
    "module",
    "function",
    "builtin_function_or_method",
    "instance",
    "_Feature"
   ],
   "window_display": false
  }
 },
 "nbformat": 4,
 "nbformat_minor": 2
}
