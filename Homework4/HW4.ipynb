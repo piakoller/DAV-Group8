{
 "cells": [
  {
   "cell_type": "code",
   "execution_count": 7,
   "metadata": {},
   "outputs": [],
   "source": [
    "import networkx as nx\n",
    "from networkx.algorithms import bipartite\n",
    "import pandas as pd\n",
    "import matplotlib.pyplot as plt\n",
    "import numpy as np"
   ]
  },
  {
   "cell_type": "code",
   "execution_count": 26,
   "metadata": {},
   "outputs": [
    {
     "data": {
      "text/html": [
       "<div>\n",
       "<style scoped>\n",
       "    .dataframe tbody tr th:only-of-type {\n",
       "        vertical-align: middle;\n",
       "    }\n",
       "\n",
       "    .dataframe tbody tr th {\n",
       "        vertical-align: top;\n",
       "    }\n",
       "\n",
       "    .dataframe thead th {\n",
       "        text-align: right;\n",
       "    }\n",
       "</style>\n",
       "<table border=\"1\" class=\"dataframe\">\n",
       "  <thead>\n",
       "    <tr style=\"text-align: right;\">\n",
       "      <th></th>\n",
       "      <th>Name</th>\n",
       "      <th>Kaggle</th>\n",
       "      <th>Weight</th>\n",
       "    </tr>\n",
       "  </thead>\n",
       "  <tbody>\n",
       "    <tr>\n",
       "      <th>0</th>\n",
       "      <td>Urm, Jae Jung</td>\n",
       "      <td>https://www.kaggle.com/mczielinski/bitcoin-his...</td>\n",
       "      <td>30</td>\n",
       "    </tr>\n",
       "    <tr>\n",
       "      <th>1</th>\n",
       "      <td>Urm, Jae Jung</td>\n",
       "      <td>https://www.kaggle.com/allen-institute-for-ai/...</td>\n",
       "      <td>15</td>\n",
       "    </tr>\n",
       "    <tr>\n",
       "      <th>2</th>\n",
       "      <td>Urm, Jae Jung</td>\n",
       "      <td>https://www.kaggle.com/datasnaek/youtube-new</td>\n",
       "      <td>25</td>\n",
       "    </tr>\n",
       "    <tr>\n",
       "      <th>3</th>\n",
       "      <td>Urm, Jae Jung</td>\n",
       "      <td>https://www.kaggle.com/sudalairajkumar/novel-c...</td>\n",
       "      <td>15</td>\n",
       "    </tr>\n",
       "    <tr>\n",
       "      <th>4</th>\n",
       "      <td>Urm, Jae Jung</td>\n",
       "      <td>https://www.kaggle.com/bappekim/air-pollution-...</td>\n",
       "      <td>15</td>\n",
       "    </tr>\n",
       "    <tr>\n",
       "      <th>...</th>\n",
       "      <td>...</td>\n",
       "      <td>...</td>\n",
       "      <td>...</td>\n",
       "    </tr>\n",
       "    <tr>\n",
       "      <th>275</th>\n",
       "      <td>Kim, Yeonsoo</td>\n",
       "      <td>https://www.kaggle.com/berkeleyearth/climate-c...</td>\n",
       "      <td>30</td>\n",
       "    </tr>\n",
       "    <tr>\n",
       "      <th>276</th>\n",
       "      <td>Kim, Yeonsoo</td>\n",
       "      <td>https://www.kaggle.com/washingtongold/wildfire...</td>\n",
       "      <td>25</td>\n",
       "    </tr>\n",
       "    <tr>\n",
       "      <th>277</th>\n",
       "      <td>Kim, Yeonsoo</td>\n",
       "      <td>https://www.kaggle.com/robikscube/hourly-energ...</td>\n",
       "      <td>25</td>\n",
       "    </tr>\n",
       "    <tr>\n",
       "      <th>278</th>\n",
       "      <td>Kim, Yeonsoo</td>\n",
       "      <td>https://www.kaggle.com/imdevskp/corona-virus-r...</td>\n",
       "      <td>15</td>\n",
       "    </tr>\n",
       "    <tr>\n",
       "      <th>279</th>\n",
       "      <td>Kim, Yeonsoo</td>\n",
       "      <td>https://www.kaggle.com/frtgnn/500-richest-peop...</td>\n",
       "      <td>5</td>\n",
       "    </tr>\n",
       "  </tbody>\n",
       "</table>\n",
       "<p>280 rows × 3 columns</p>\n",
       "</div>"
      ],
      "text/plain": [
       "              Name                                             Kaggle  Weight\n",
       "0    Urm, Jae Jung  https://www.kaggle.com/mczielinski/bitcoin-his...      30\n",
       "1    Urm, Jae Jung  https://www.kaggle.com/allen-institute-for-ai/...      15\n",
       "2    Urm, Jae Jung       https://www.kaggle.com/datasnaek/youtube-new      25\n",
       "3    Urm, Jae Jung  https://www.kaggle.com/sudalairajkumar/novel-c...      15\n",
       "4    Urm, Jae Jung  https://www.kaggle.com/bappekim/air-pollution-...      15\n",
       "..             ...                                                ...     ...\n",
       "275   Kim, Yeonsoo  https://www.kaggle.com/berkeleyearth/climate-c...      30\n",
       "276   Kim, Yeonsoo  https://www.kaggle.com/washingtongold/wildfire...      25\n",
       "277   Kim, Yeonsoo  https://www.kaggle.com/robikscube/hourly-energ...      25\n",
       "278   Kim, Yeonsoo  https://www.kaggle.com/imdevskp/corona-virus-r...      15\n",
       "279   Kim, Yeonsoo  https://www.kaggle.com/frtgnn/500-richest-peop...       5\n",
       "\n",
       "[280 rows x 3 columns]"
      ]
     },
     "execution_count": 26,
     "metadata": {},
     "output_type": "execute_result"
    }
   ],
   "source": [
    "data = pd.read_csv('sp21_student_kaggle.csv')\n",
    "data\n",
    "# data['Name']\n",
    "# data['Kaggle']"
   ]
  },
  {
   "cell_type": "code",
   "execution_count": 51,
   "metadata": {},
   "outputs": [],
   "source": [
    "# unidirected bipartite graph\n",
    "\n",
    "B = nx.Graph()\n",
    "# Add nodes with the node attribute \"bipartite\"\n",
    "B.add_nodes_from(data['Name'], bipartite='Person')\n",
    "B.add_nodes_from(data['Kaggle'], bipartite='Dataset')\n",
    "\n",
    "#B.nodes(data=True)\n",
    "\n",
    "B.add_weighted_edges_from(\n",
    "    [(row['Name'], row['Kaggle'], 1) for idx, row in data.iterrows()], \n",
    "    weight='weight')\n",
    "\n",
    "#B.edges(data=True)\n",
    "\n",
    "# #nx.is_connected(B)\n",
    "\n",
    "# top_nodes = {n for n, d in B.nodes(data=True) if d[\"bipartite\"] == 0}\n",
    "# bottom_nodes = set(B) - top_nodes\n",
    "# print(round(bipartite.density(B, bottom_nodes), 2))\n",
    "\n",
    "# print(nx.is_connected(B))\n",
    "\n",
    "# G = bipartite.projected_graph(B, top_nodes)\n",
    "# print(G)"
   ]
  },
  {
   "cell_type": "code",
   "execution_count": null,
   "metadata": {},
   "outputs": [],
   "source": [
    "# node-link diagram differentiating the two types of nodes"
   ]
  },
  {
   "cell_type": "code",
   "execution_count": null,
   "metadata": {},
   "outputs": [],
   "source": [
    "# How many components are there in this graph?"
   ]
  },
  {
   "cell_type": "code",
   "execution_count": null,
   "metadata": {},
   "outputs": [],
   "source": [
    "# Extracting the largest component"
   ]
  },
  {
   "cell_type": "code",
   "execution_count": null,
   "metadata": {},
   "outputs": [],
   "source": [
    "# Names of people who do not belong to the main component"
   ]
  },
  {
   "cell_type": "code",
   "execution_count": null,
   "metadata": {},
   "outputs": [],
   "source": [
    "# Convert the main component into two unipartite graphs"
   ]
  },
  {
   "cell_type": "code",
   "execution_count": null,
   "metadata": {},
   "outputs": [],
   "source": [
    "# Visualize both persons graph and datasets graog using node-link diagrams"
   ]
  },
  {
   "cell_type": "code",
   "execution_count": null,
   "metadata": {},
   "outputs": [],
   "source": [
    "# Compute closeness centralities for all nodes in the persons graph"
   ]
  },
  {
   "cell_type": "code",
   "execution_count": null,
   "metadata": {},
   "outputs": [],
   "source": [
    "# Compute betweenness centralities for all nodes in the persons graph"
   ]
  },
  {
   "cell_type": "code",
   "execution_count": null,
   "metadata": {},
   "outputs": [],
   "source": [
    "# Compute the correlation coefficient between the two centrality measures"
   ]
  }
 ],
 "metadata": {
  "interpreter": {
   "hash": "916dbcbb3f70747c44a77c7bcd40155683ae19c65e1c03b4aa3499c5328201f1"
  },
  "kernelspec": {
   "display_name": "Python 3.8.10 64-bit",
   "language": "python",
   "name": "python3"
  },
  "language_info": {
   "codemirror_mode": {
    "name": "ipython",
    "version": 3
   },
   "file_extension": ".py",
   "mimetype": "text/x-python",
   "name": "python",
   "nbconvert_exporter": "python",
   "pygments_lexer": "ipython3",
   "version": "3.8.10"
  },
  "orig_nbformat": 4
 },
 "nbformat": 4,
 "nbformat_minor": 2
}
